{
 "cells": [
  {
   "cell_type": "code",
   "execution_count": 2,
   "metadata": {},
   "outputs": [],
   "source": [
    "text = \"Ехал Грека через реку, n\\\n",
    "        Видит Грека, в реке рак n\\\n",
    "        Сунул Грека палец в реку, n\\\n",
    "        рак за палец Грека цап\"\n",
    "\n",
    "\n",
    "\n"
   ]
  },
  {
   "cell_type": "code",
   "execution_count": 3,
   "metadata": {},
   "outputs": [],
   "source": [
    "dict_zipped_text = {\n",
    "    \n",
    "}"
   ]
  },
  {
   "cell_type": "code",
   "execution_count": 6,
   "metadata": {},
   "outputs": [
    {
     "data": {
      "text/plain": [
       "['Ехал',\n",
       " 'Грека',\n",
       " 'через',\n",
       " 'реку,',\n",
       " 'n',\n",
       " 'Видит',\n",
       " 'Грека,',\n",
       " 'в',\n",
       " 'реке',\n",
       " 'рак',\n",
       " 'n',\n",
       " 'Сунул',\n",
       " 'Грека',\n",
       " 'палец',\n",
       " 'в',\n",
       " 'реку,',\n",
       " 'n',\n",
       " 'рак',\n",
       " 'за',\n",
       " 'палец',\n",
       " 'Грека',\n",
       " 'цап']"
      ]
     },
     "execution_count": 6,
     "metadata": {},
     "output_type": "execute_result"
    }
   ],
   "source": [
    "listed_text = list(text.split())\n",
    "listed_text"
   ]
  }
 ],
 "metadata": {
  "interpreter": {
   "hash": "56774f4f1d4035357a19f1d2034911a25e55c19141e267e3f9a75b39b9c1ddc5"
  },
  "kernelspec": {
   "display_name": "Python 3.8.10 64-bit ('venv': venv)",
   "language": "python",
   "name": "python3"
  },
  "language_info": {
   "codemirror_mode": {
    "name": "ipython",
    "version": 3
   },
   "file_extension": ".py",
   "mimetype": "text/x-python",
   "name": "python",
   "nbconvert_exporter": "python",
   "pygments_lexer": "ipython3",
   "version": "3.8.10"
  },
  "orig_nbformat": 4
 },
 "nbformat": 4,
 "nbformat_minor": 2
}
